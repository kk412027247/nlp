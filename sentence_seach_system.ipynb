{
  "nbformat": 4,
  "nbformat_minor": 0,
  "metadata": {
    "colab": {
      "provenance": [],
      "gpuType": "T4",
      "authorship_tag": "ABX9TyMAth43C+lHIR1/3s9xGmL9",
      "include_colab_link": true
    },
    "kernelspec": {
      "name": "python3",
      "display_name": "Python 3"
    },
    "language_info": {
      "name": "python"
    },
    "accelerator": "GPU"
  },
  "cells": [
    {
      "cell_type": "markdown",
      "metadata": {
        "id": "view-in-github",
        "colab_type": "text"
      },
      "source": [
        "<a href=\"https://colab.research.google.com/github/kk412027247/nlp/blob/main/sentence_seach_system.ipynb\" target=\"_parent\"><img src=\"https://colab.research.google.com/assets/colab-badge.svg\" alt=\"Open In Colab\"/></a>"
      ]
    },
    {
      "cell_type": "code",
      "source": [
        "import tensorflow as tf\n",
        "from transformers import TFBertModel, BertTokenizer\n",
        "import numpy as np\n",
        "from sklearn.metrics.pairwise import cosine_similarity\n",
        "\n",
        "\n",
        "# Load pre-trained BERT model and tokenizer\n",
        "model_name = 'bert-base-uncased'\n",
        "tokenizer = BertTokenizer.from_pretrained(model_name)\n",
        "model = TFBertModel.from_pretrained(model_name)"
      ],
      "metadata": {
        "colab": {
          "base_uri": "https://localhost:8080/"
        },
        "collapsed": true,
        "id": "ishz1M8U7XMP",
        "outputId": "f7fe4cf8-fd1d-4a53-d84e-216fb07c65e1"
      },
      "execution_count": 13,
      "outputs": [
        {
          "output_type": "stream",
          "name": "stderr",
          "text": [
            "Some weights of the PyTorch model were not used when initializing the TF 2.0 model TFBertModel: ['cls.predictions.transform.dense.bias', 'cls.predictions.transform.LayerNorm.bias', 'cls.predictions.transform.LayerNorm.weight', 'cls.seq_relationship.bias', 'cls.predictions.transform.dense.weight', 'cls.predictions.bias', 'cls.seq_relationship.weight']\n",
            "- This IS expected if you are initializing TFBertModel from a PyTorch model trained on another task or with another architecture (e.g. initializing a TFBertForSequenceClassification model from a BertForPreTraining model).\n",
            "- This IS NOT expected if you are initializing TFBertModel from a PyTorch model that you expect to be exactly identical (e.g. initializing a TFBertForSequenceClassification model from a BertForSequenceClassification model).\n",
            "All the weights of TFBertModel were initialized from the PyTorch model.\n",
            "If your task is similar to the task the model of the checkpoint was trained on, you can already use TFBertModel for predictions without further training.\n"
          ]
        }
      ]
    },
    {
      "cell_type": "code",
      "source": [
        "# Function to get sentence embeddings with pooling over the last hidden state\n",
        "def get_sentence_embedding(sentence):\n",
        "    # Tokenize the input sentence\n",
        "    inputs = tokenizer(sentence, return_tensors='tf', padding=True, truncation=True, max_length=512)\n",
        "\n",
        "    # Get the BERT model outputs (hidden states)\n",
        "    outputs = model(**inputs)\n",
        "\n",
        "    # Last hidden states (batch_size, seq_length, hidden_size)\n",
        "    last_hidden_state = outputs.last_hidden_state\n",
        "\n",
        "    # Apply mean pooling over the sequence dimension\n",
        "    pooled_embedding = tf.reduce_mean(last_hidden_state, axis=1)\n",
        "\n",
        "    # print(pooled_embedding.shape, '\\n')\n",
        "    return pooled_embedding"
      ],
      "metadata": {
        "id": "7LGe3KQLAzjY"
      },
      "execution_count": null,
      "outputs": []
    },
    {
      "cell_type": "code",
      "source": [
        "documents = [\n",
        "    \"Machine learning enables AI.\",\n",
        "    \"FAISS is a library for fast similarity search.\",\n",
        "    \"Transformers provide state-of-the-art NLP models.\",\n",
        "    \"Deep learning is a subset of machine learning.\",\n",
        "    \"how are you ?\"\n",
        "]\n",
        "\n",
        "\n",
        "doc_embeddings = np.vstack([get_sentence_embedding(doc) for doc in documents])\n",
        "\n",
        "def search(query, top_k=2):\n",
        "    \"\"\"Find the most relevant documents using cosine similarity\"\"\"\n",
        "    query_embedding = get_sentence_embedding([query])\n",
        "\n",
        "    # Compute cosine similarity between query and document embeddings\n",
        "    similarities = cosine_similarity(query_embedding, doc_embeddings)[0]\n",
        "\n",
        "    # Get top-k most similar documents\n",
        "    top_indices = np.argsort(similarities)[::-1][:top_k]\n",
        "\n",
        "    results = [(documents[i], similarities[i]) for i in top_indices]\n",
        "    return results\n"
      ],
      "metadata": {
        "id": "WT2UryV07_on"
      },
      "execution_count": 21,
      "outputs": []
    },
    {
      "cell_type": "code",
      "source": [
        "query = \"How does deep learning work?\"\n",
        "results = search(query)\n",
        "\n",
        "# Display results\n",
        "for res, score in results:\n",
        "    print(f\"Similarity Score: {score:.4f}, Document: {res}\")"
      ],
      "metadata": {
        "colab": {
          "base_uri": "https://localhost:8080/"
        },
        "id": "3WapwgmiA5dH",
        "outputId": "eab83aa5-1c50-438b-b247-2b8236d0d522"
      },
      "execution_count": 22,
      "outputs": [
        {
          "output_type": "stream",
          "name": "stdout",
          "text": [
            "Similarity Score: 0.7120, Document: Machine learning enables AI.\n",
            "Similarity Score: 0.6804, Document: Deep learning is a subset of machine learning.\n"
          ]
        }
      ]
    }
  ]
}