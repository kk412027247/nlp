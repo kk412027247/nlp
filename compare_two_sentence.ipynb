{
  "nbformat": 4,
  "nbformat_minor": 0,
  "metadata": {
    "colab": {
      "provenance": [],
      "authorship_tag": "ABX9TyMRYBeXGfPD4LDgy6W7rEUT",
      "include_colab_link": true
    },
    "kernelspec": {
      "name": "python3",
      "display_name": "Python 3"
    },
    "language_info": {
      "name": "python"
    }
  },
  "cells": [
    {
      "cell_type": "markdown",
      "metadata": {
        "id": "view-in-github",
        "colab_type": "text"
      },
      "source": [
        "<a href=\"https://colab.research.google.com/github/kk412027247/nlp/blob/main/compare_two_sentence.ipynb\" target=\"_parent\"><img src=\"https://colab.research.google.com/assets/colab-badge.svg\" alt=\"Open In Colab\"/></a>"
      ]
    },
    {
      "cell_type": "code",
      "source": [
        "import tensorflow as tf\n",
        "from transformers import TFBertModel, BertTokenizer\n",
        "import numpy as np\n",
        "from sklearn.metrics.pairwise import cosine_similarity\n",
        "\n",
        "# Load pre-trained BERT model and tokenizer\n",
        "model_name = 'bert-base-uncased'\n",
        "tokenizer = BertTokenizer.from_pretrained(model_name)\n",
        "model = TFBertModel.from_pretrained(model_name)\n",
        "\n",
        "# Function to get sentence embeddings with pooling over the last hidden state\n",
        "def get_sentence_embedding(sentence):\n",
        "    # Tokenize the input sentence\n",
        "    inputs = tokenizer(sentence, return_tensors='tf', padding=True, truncation=True, max_length=512)\n",
        "\n",
        "    # Get the BERT model outputs (hidden states)\n",
        "    outputs = model(**inputs)\n",
        "\n",
        "    # Last hidden states (batch_size, seq_length, hidden_size)\n",
        "    last_hidden_state = outputs.last_hidden_state\n",
        "\n",
        "    # Apply mean pooling over the sequence dimension\n",
        "    pooled_embedding = tf.reduce_mean(last_hidden_state, axis=1)\n",
        "\n",
        "    # print(pooled_embedding.shape, '\\n')\n",
        "    return pooled_embedding\n",
        "\n",
        "# Function to compute cosine similarity\n",
        "def compute_cosine_similarity(embedding1, embedding2):\n",
        "    # Convert embeddings to numpy arrays\n",
        "    embedding1 = embedding1.numpy()\n",
        "    embedding2 = embedding2.numpy()\n",
        "\n",
        "    # Compute cosine similarity\n",
        "    similarity = cosine_similarity(embedding1, embedding2)\n",
        "    return similarity[0][0]\n",
        "\n",
        "\n"
      ],
      "metadata": {
        "colab": {
          "base_uri": "https://localhost:8080/"
        },
        "id": "uZMgDHJDIR8S",
        "outputId": "5883cfd7-ecfd-46b2-a58c-c9eef839802a"
      },
      "execution_count": 50,
      "outputs": [
        {
          "output_type": "stream",
          "name": "stderr",
          "text": [
            "Some weights of the PyTorch model were not used when initializing the TF 2.0 model TFBertModel: ['cls.predictions.transform.LayerNorm.bias', 'cls.predictions.transform.LayerNorm.weight', 'cls.seq_relationship.weight', 'cls.predictions.bias', 'cls.seq_relationship.bias', 'cls.predictions.transform.dense.bias', 'cls.predictions.transform.dense.weight']\n",
            "- This IS expected if you are initializing TFBertModel from a PyTorch model trained on another task or with another architecture (e.g. initializing a TFBertForSequenceClassification model from a BertForPreTraining model).\n",
            "- This IS NOT expected if you are initializing TFBertModel from a PyTorch model that you expect to be exactly identical (e.g. initializing a TFBertForSequenceClassification model from a BertForSequenceClassification model).\n",
            "All the weights of TFBertModel were initialized from the PyTorch model.\n",
            "If your task is similar to the task the model of the checkpoint was trained on, you can already use TFBertModel for predictions without further training.\n"
          ]
        }
      ]
    },
    {
      "cell_type": "code",
      "source": [
        "# Example sentences\n",
        "sentence1 = \"I love programming.\"\n",
        "sentence2 = \"Coding is my passion.\"\n",
        "\n",
        "# Get embeddings for both sentences\n",
        "embedding1 = get_sentence_embedding(sentence1)\n",
        "embedding2 = get_sentence_embedding(sentence2)\n",
        "\n",
        "# Compute cosine similarity\n",
        "similarity_score = compute_cosine_similarity(embedding1, embedding2)\n",
        "print(f\"Cosine Similarity: {similarity_score}\")"
      ],
      "metadata": {
        "colab": {
          "base_uri": "https://localhost:8080/"
        },
        "id": "CHUtRi0nITUE",
        "outputId": "65042fe9-a576-495f-9637-0f8b8ecca9fb"
      },
      "execution_count": 51,
      "outputs": [
        {
          "output_type": "stream",
          "name": "stdout",
          "text": [
            "Cosine Similarity: 0.8084195256233215\n"
          ]
        }
      ]
    },
    {
      "cell_type": "code",
      "source": [
        "# Example sentences\n",
        "sentence1 = \"I love programming.\"\n",
        "sentence2 = \"how are you.\"\n",
        "\n",
        "# Get embeddings for both sentences\n",
        "embedding1 = get_sentence_embedding(sentence1)\n",
        "embedding2 = get_sentence_embedding(sentence2)\n",
        "\n",
        "# Compute cosine similarity\n",
        "similarity_score = compute_cosine_similarity(embedding1, embedding2)\n",
        "print(f\"Cosine Similarity: {similarity_score}\")"
      ],
      "metadata": {
        "colab": {
          "base_uri": "https://localhost:8080/"
        },
        "id": "-x2p4lLMIZ_w",
        "outputId": "9e6c8329-69e6-4002-f965-93714ec72489"
      },
      "execution_count": 48,
      "outputs": [
        {
          "output_type": "stream",
          "name": "stdout",
          "text": [
            "Cosine Similarity: 0.4891205430030823\n"
          ]
        }
      ]
    },
    {
      "cell_type": "code",
      "source": [
        "# Example sentences\n",
        "sentence1 = \"how are you.\"\n",
        "sentence2 = \"i am fine, thank you.\"\n",
        "\n",
        "# Get embeddings for both sentences\n",
        "embedding1 = get_sentence_embedding(sentence1)\n",
        "embedding2 = get_sentence_embedding(sentence2)\n",
        "\n",
        "# Compute cosine similarity\n",
        "similarity_score = compute_cosine_similarity(embedding1, embedding2)\n",
        "print(f\"Cosine Similarity: {similarity_score}\")"
      ],
      "metadata": {
        "colab": {
          "base_uri": "https://localhost:8080/"
        },
        "id": "xMZ1PQU4IdIs",
        "outputId": "5ffd61eb-2a37-4db1-9a15-fa98fbe72bdd"
      },
      "execution_count": 18,
      "outputs": [
        {
          "output_type": "stream",
          "name": "stdout",
          "text": [
            "Cosine Similarity: 0.6672059297561646\n"
          ]
        }
      ]
    },
    {
      "cell_type": "code",
      "source": [
        "# Example sentences\n",
        "sentence1 = \"I love programming.\"\n",
        "sentence2 = \"I am a c# developer.\"\n",
        "\n",
        "# Get embeddings for both sentences\n",
        "embedding1 = get_sentence_embedding(sentence1)\n",
        "embedding2 = get_sentence_embedding(sentence2)\n",
        "\n",
        "# Compute cosine similarity\n",
        "similarity_score = compute_cosine_similarity(embedding1, embedding2)\n",
        "print(f\"Cosine Similarity: {similarity_score}\")"
      ],
      "metadata": {
        "colab": {
          "base_uri": "https://localhost:8080/"
        },
        "id": "AWFphWOmIkNm",
        "outputId": "31eb608e-e692-45a5-e473-44d2c9ad85e1"
      },
      "execution_count": 22,
      "outputs": [
        {
          "output_type": "stream",
          "name": "stdout",
          "text": [
            "Cosine Similarity: 0.7123180627822876\n"
          ]
        }
      ]
    },
    {
      "cell_type": "code",
      "source": [
        "# Example sentences\n",
        "sentence1 = \"I love programming.\"\n",
        "sentence2 = \"I like Java.\"\n",
        "\n",
        "# Get embeddings for both sentences\n",
        "embedding1 = get_sentence_embedding(sentence1)\n",
        "embedding2 = get_sentence_embedding(sentence2)\n",
        "\n",
        "# Compute cosine similarity\n",
        "similarity_score = compute_cosine_similarity(embedding1, embedding2)\n",
        "print(f\"Cosine Similarity: {similarity_score}\")"
      ],
      "metadata": {
        "colab": {
          "base_uri": "https://localhost:8080/"
        },
        "id": "VPX8s-_FItsg",
        "outputId": "43009a49-6d8c-4cfa-a47a-bfaf591c44d0"
      },
      "execution_count": 23,
      "outputs": [
        {
          "output_type": "stream",
          "name": "stdout",
          "text": [
            "Cosine Similarity: 0.8276803493499756\n"
          ]
        }
      ]
    },
    {
      "cell_type": "code",
      "source": [
        "# Example sentences\n",
        "sentence1 = \"I love programming.\"\n",
        "sentence2 = \"I like javascript.\"\n",
        "\n",
        "# Get embeddings for both sentences\n",
        "embedding1 = get_sentence_embedding(sentence1)\n",
        "embedding2 = get_sentence_embedding(sentence2)\n",
        "\n",
        "# Compute cosine similarity\n",
        "similarity_score = compute_cosine_similarity(embedding1, embedding2)\n",
        "print(f\"Cosine Similarity: {similarity_score}\")"
      ],
      "metadata": {
        "colab": {
          "base_uri": "https://localhost:8080/"
        },
        "id": "sx5U5Ah7Iz7y",
        "outputId": "9eb4ca5c-a9e3-49d7-e896-bb2ce2ec23a6"
      },
      "execution_count": 52,
      "outputs": [
        {
          "output_type": "stream",
          "name": "stdout",
          "text": [
            "Cosine Similarity: 0.8029322624206543\n"
          ]
        }
      ]
    },
    {
      "cell_type": "code",
      "source": [
        "# Example sentences\n",
        "sentence1 = \"I love programming.\"\n",
        "sentence2 = \"how are you.\"\n",
        "\n",
        "# Get embeddings for both sentences\n",
        "embedding1 = get_sentence_embedding(sentence1)\n",
        "embedding2 = get_sentence_embedding(sentence2)\n",
        "\n",
        "# Compute cosine similarity\n",
        "similarity_score = compute_cosine_similarity(embedding1, embedding2)\n",
        "print(f\"Cosine Similarity: {similarity_score}\")"
      ],
      "metadata": {
        "id": "c2D1Q9igR24S",
        "outputId": "c2fb7cec-e9f3-4a98-eb4b-f347d655e1cd",
        "colab": {
          "base_uri": "https://localhost:8080/"
        }
      },
      "execution_count": 53,
      "outputs": [
        {
          "output_type": "stream",
          "name": "stdout",
          "text": [
            "Cosine Similarity: 0.4891205430030823\n"
          ]
        }
      ]
    }
  ]
}