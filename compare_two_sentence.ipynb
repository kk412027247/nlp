{
  "nbformat": 4,
  "nbformat_minor": 0,
  "metadata": {
    "colab": {
      "provenance": [],
      "authorship_tag": "ABX9TyPY5ozSgN3GhdbXgepdfssK",
      "include_colab_link": true
    },
    "kernelspec": {
      "name": "python3",
      "display_name": "Python 3"
    },
    "language_info": {
      "name": "python"
    }
  },
  "cells": [
    {
      "cell_type": "markdown",
      "metadata": {
        "id": "view-in-github",
        "colab_type": "text"
      },
      "source": [
        "<a href=\"https://colab.research.google.com/github/kk412027247/nlp/blob/main/compare_two_sentence.ipynb\" target=\"_parent\"><img src=\"https://colab.research.google.com/assets/colab-badge.svg\" alt=\"Open In Colab\"/></a>"
      ]
    },
    {
      "cell_type": "code",
      "source": [
        "import tensorflow as tf\n",
        "from transformers import TFBertModel, BertTokenizer\n",
        "import numpy as np\n",
        "from sklearn.metrics.pairwise import cosine_similarity\n",
        "\n",
        "# Load pre-trained BERT model and tokenizer\n",
        "model_name = 'bert-base-uncased'\n",
        "tokenizer = BertTokenizer.from_pretrained(model_name)\n",
        "model = TFBertModel.from_pretrained(model_name)\n",
        "\n",
        "# Function to get sentence embeddings with pooling over the last hidden state\n",
        "def get_sentence_embedding(sentence):\n",
        "    # Tokenize the input sentence\n",
        "    inputs = tokenizer(sentence, return_tensors='tf', padding=True, truncation=True, max_length=512)\n",
        "\n",
        "    # Get the BERT model outputs (hidden states)\n",
        "    outputs = model(**inputs)\n",
        "\n",
        "    # Last hidden states (batch_size, seq_length, hidden_size)\n",
        "    last_hidden_state = outputs.last_hidden_state\n",
        "\n",
        "    # Apply pooling (mean pooling of token embeddings)\n",
        "    attention_mask = inputs['attention_mask']\n",
        "    mask_expanded = tf.expand_dims(attention_mask, axis=-1)\n",
        "    mask_expanded = tf.cast(mask_expanded, dtype=tf.float32)\n",
        "\n",
        "    # Calculate mean over the sequence, excluding padding tokens\n",
        "    pooled_embedding = tf.reduce_sum(last_hidden_state * mask_expanded, axis=1) / tf.reduce_sum(mask_expanded, axis=1)\n",
        "\n",
        "    return pooled_embedding\n",
        "\n",
        "# Function to compute cosine similarity\n",
        "def compute_cosine_similarity(embedding1, embedding2):\n",
        "    # Convert embeddings to numpy arrays\n",
        "    embedding1 = embedding1.numpy()\n",
        "    embedding2 = embedding2.numpy()\n",
        "\n",
        "    # Compute cosine similarity\n",
        "    similarity = cosine_similarity(embedding1, embedding2)\n",
        "    return similarity[0][0]\n",
        "\n",
        "\n"
      ],
      "metadata": {
        "colab": {
          "base_uri": "https://localhost:8080/"
        },
        "id": "uZMgDHJDIR8S",
        "outputId": "4af0dcbc-bece-4202-c7a2-e1e984237925"
      },
      "execution_count": 26,
      "outputs": [
        {
          "output_type": "stream",
          "name": "stderr",
          "text": [
            "Some weights of the PyTorch model were not used when initializing the TF 2.0 model TFBertModel: ['cls.predictions.transform.dense.bias', 'cls.predictions.bias', 'cls.seq_relationship.weight', 'cls.predictions.transform.LayerNorm.weight', 'cls.predictions.transform.LayerNorm.bias', 'cls.predictions.transform.dense.weight', 'cls.seq_relationship.bias']\n",
            "- This IS expected if you are initializing TFBertModel from a PyTorch model trained on another task or with another architecture (e.g. initializing a TFBertForSequenceClassification model from a BertForPreTraining model).\n",
            "- This IS NOT expected if you are initializing TFBertModel from a PyTorch model that you expect to be exactly identical (e.g. initializing a TFBertForSequenceClassification model from a BertForSequenceClassification model).\n",
            "All the weights of TFBertModel were initialized from the PyTorch model.\n",
            "If your task is similar to the task the model of the checkpoint was trained on, you can already use TFBertModel for predictions without further training.\n"
          ]
        }
      ]
    },
    {
      "cell_type": "code",
      "source": [
        "# Example sentences\n",
        "sentence1 = \"I love programming.\"\n",
        "sentence2 = \"Coding is my passion.\"\n",
        "\n",
        "# Get embeddings for both sentences\n",
        "embedding1 = get_sentence_embedding(sentence1)\n",
        "embedding2 = get_sentence_embedding(sentence2)\n",
        "\n",
        "# Compute cosine similarity\n",
        "similarity_score = compute_cosine_similarity(embedding1, embedding2)\n",
        "print(f\"Cosine Similarity: {similarity_score}\")"
      ],
      "metadata": {
        "colab": {
          "base_uri": "https://localhost:8080/"
        },
        "id": "CHUtRi0nITUE",
        "outputId": "a977f5e1-17c1-4076-f770-76e89410b71d"
      },
      "execution_count": 27,
      "outputs": [
        {
          "output_type": "stream",
          "name": "stdout",
          "text": [
            "Cosine Similarity: 0.8084195256233215\n"
          ]
        }
      ]
    },
    {
      "cell_type": "code",
      "source": [
        "# Example sentences\n",
        "sentence1 = \"I love programming.\"\n",
        "sentence2 = \"how are you.\"\n",
        "\n",
        "# Get embeddings for both sentences\n",
        "embedding1 = get_sentence_embedding(sentence1)\n",
        "embedding2 = get_sentence_embedding(sentence2)\n",
        "\n",
        "# Compute cosine similarity\n",
        "similarity_score = compute_cosine_similarity(embedding1, embedding2)\n",
        "print(f\"Cosine Similarity: {similarity_score}\")"
      ],
      "metadata": {
        "colab": {
          "base_uri": "https://localhost:8080/"
        },
        "id": "-x2p4lLMIZ_w",
        "outputId": "7b393a1a-379e-4f69-a539-2c34a5411b87"
      },
      "execution_count": 28,
      "outputs": [
        {
          "output_type": "stream",
          "name": "stdout",
          "text": [
            "Cosine Similarity: 0.4891205430030823\n"
          ]
        }
      ]
    },
    {
      "cell_type": "code",
      "source": [
        "# Example sentences\n",
        "sentence1 = \"how are you.\"\n",
        "sentence2 = \"i am fine, thank you.\"\n",
        "\n",
        "# Get embeddings for both sentences\n",
        "embedding1 = get_sentence_embedding(sentence1)\n",
        "embedding2 = get_sentence_embedding(sentence2)\n",
        "\n",
        "# Compute cosine similarity\n",
        "similarity_score = compute_cosine_similarity(embedding1, embedding2)\n",
        "print(f\"Cosine Similarity: {similarity_score}\")"
      ],
      "metadata": {
        "colab": {
          "base_uri": "https://localhost:8080/"
        },
        "id": "xMZ1PQU4IdIs",
        "outputId": "743d343b-17a7-43f6-eec2-639be24c0f6a"
      },
      "execution_count": 29,
      "outputs": [
        {
          "output_type": "stream",
          "name": "stdout",
          "text": [
            "Cosine Similarity: 0.6672059297561646\n"
          ]
        }
      ]
    },
    {
      "cell_type": "code",
      "source": [
        "# Example sentences\n",
        "sentence1 = \"I love programming.\"\n",
        "sentence2 = \"I am a c# developer.\"\n",
        "\n",
        "# Get embeddings for both sentences\n",
        "embedding1 = get_sentence_embedding(sentence1)\n",
        "embedding2 = get_sentence_embedding(sentence2)\n",
        "\n",
        "# Compute cosine similarity\n",
        "similarity_score = compute_cosine_similarity(embedding1, embedding2)\n",
        "print(f\"Cosine Similarity: {similarity_score}\")"
      ],
      "metadata": {
        "colab": {
          "base_uri": "https://localhost:8080/"
        },
        "id": "AWFphWOmIkNm",
        "outputId": "dfbb9b76-088a-49aa-a71a-b5a35b3400f1"
      },
      "execution_count": 30,
      "outputs": [
        {
          "output_type": "stream",
          "name": "stdout",
          "text": [
            "Cosine Similarity: 0.7123180627822876\n"
          ]
        }
      ]
    },
    {
      "cell_type": "code",
      "source": [
        "# Example sentences\n",
        "sentence1 = \"I love programming.\"\n",
        "sentence2 = \"I like Java.\"\n",
        "\n",
        "# Get embeddings for both sentences\n",
        "embedding1 = get_sentence_embedding(sentence1)\n",
        "embedding2 = get_sentence_embedding(sentence2)\n",
        "\n",
        "# Compute cosine similarity\n",
        "similarity_score = compute_cosine_similarity(embedding1, embedding2)\n",
        "print(f\"Cosine Similarity: {similarity_score}\")"
      ],
      "metadata": {
        "colab": {
          "base_uri": "https://localhost:8080/"
        },
        "id": "VPX8s-_FItsg",
        "outputId": "aaf7e3ea-0d59-468e-f7a9-b5b3896f8e92"
      },
      "execution_count": 31,
      "outputs": [
        {
          "output_type": "stream",
          "name": "stdout",
          "text": [
            "Cosine Similarity: 0.8276803493499756\n"
          ]
        }
      ]
    },
    {
      "cell_type": "code",
      "source": [
        "# Example sentences\n",
        "sentence1 = \"I love programming.\"\n",
        "sentence2 = \"I like javascript.\"\n",
        "\n",
        "# Get embeddings for both sentences\n",
        "embedding1 = get_sentence_embedding(sentence1)\n",
        "embedding2 = get_sentence_embedding(sentence2)\n",
        "\n",
        "# Compute cosine similarity\n",
        "similarity_score = compute_cosine_similarity(embedding1, embedding2)\n",
        "print(f\"Cosine Similarity: {similarity_score}\")"
      ],
      "metadata": {
        "colab": {
          "base_uri": "https://localhost:8080/"
        },
        "id": "sx5U5Ah7Iz7y",
        "outputId": "258b0037-ae4d-4d05-dffb-59c68159e241"
      },
      "execution_count": 32,
      "outputs": [
        {
          "output_type": "stream",
          "name": "stdout",
          "text": [
            "Cosine Similarity: 0.8029322624206543\n"
          ]
        }
      ]
    }
  ]
}