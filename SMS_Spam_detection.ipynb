{
  "nbformat": 4,
  "nbformat_minor": 0,
  "metadata": {
    "colab": {
      "name": "SMS_Spam_detection.ipynb",
      "private_outputs": true,
      "provenance": [],
      "authorship_tag": "ABX9TyPl/PoXDmaMFxO5GPS8WL9Z",
      "include_colab_link": true
    },
    "kernelspec": {
      "name": "python3",
      "display_name": "Python 3"
    },
    "language_info": {
      "name": "python"
    },
    "accelerator": "GPU"
  },
  "cells": [
    {
      "cell_type": "markdown",
      "metadata": {
        "id": "view-in-github",
        "colab_type": "text"
      },
      "source": [
        "<a href=\"https://colab.research.google.com/github/kk412027247/nlp/blob/main/SMS_Spam_detection.ipynb\" target=\"_parent\"><img src=\"https://colab.research.google.com/assets/colab-badge.svg\" alt=\"Open In Colab\"/></a>"
      ]
    },
    {
      "cell_type": "code",
      "metadata": {
        "id": "AsR4bSFykAK0"
      },
      "source": [
        "%tensorflow_version 2.x\n",
        "import tensorflow as tf\n",
        "import os\n",
        "import io\n",
        "import pandas as pd\n",
        "import re\n",
        "tf.__version__\n",
        "\n",
        "# path_to_zip = tf.keras.utils.get_file(\"smsspamcollection.zip\",\n",
        "#                                       origin = \"https://archive.ics.uci.edu/ml/machine-learning-databases/00228/smsspamcollection.zip\",extract=True)\n",
        "\n",
        "\n",
        "# !unzip $path_to_zip -d data\n",
        "\n",
        "lines = io.open('data/SMSSpamCollection').read().strip().split('\\n')\n",
        "lines[0]\n",
        "\n",
        "spam_dataset = []\n",
        "for line in lines:\n",
        "  label, text = line.split('\\t')\n",
        "  if label.strip() == 'spam':\n",
        "    spam_dataset.append((1, text.strip()))\n",
        "  else:\n",
        "    spam_dataset.append(((0, text.strip())))\n",
        "print(spam_dataset[0])\n",
        "\n",
        "df = pd.DataFrame(spam_dataset, columns=['Spam', 'Message'])\n",
        "\n",
        "def message_lenth(x):\n",
        "  return len(x)\n",
        "\n",
        "def num_capitals(x):\n",
        "  _, count = re.subn(r'[A-Z]', '', x)\n",
        "  return count\n",
        "\n",
        "def num_puntuation(x):\n",
        "  _,count = re.subn(r'\\W', '', x)\n",
        "  return count\n",
        "\n",
        "df['Capitals'] = df['Message'].apply(num_capitals)\n",
        "df['Punctuation'] = df['Message'].apply(num_puntuation)\n",
        "df['Length'] = df['Message'].apply(message_lenth)\n",
        "df.describe()"
      ],
      "execution_count": null,
      "outputs": []
    },
    {
      "cell_type": "code",
      "metadata": {
        "id": "W79o97napk17"
      },
      "source": [
        ""
      ],
      "execution_count": null,
      "outputs": []
    }
  ]
}