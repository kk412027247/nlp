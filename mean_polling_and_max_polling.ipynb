{
  "nbformat": 4,
  "nbformat_minor": 0,
  "metadata": {
    "colab": {
      "provenance": [],
      "authorship_tag": "ABX9TyNSOJOr+Ejxe6ZkWFFQDXX4",
      "include_colab_link": true
    },
    "kernelspec": {
      "name": "python3",
      "display_name": "Python 3"
    },
    "language_info": {
      "name": "python"
    }
  },
  "cells": [
    {
      "cell_type": "markdown",
      "metadata": {
        "id": "view-in-github",
        "colab_type": "text"
      },
      "source": [
        "<a href=\"https://colab.research.google.com/github/kk412027247/nlp/blob/main/mean_polling_and_max_polling.ipynb\" target=\"_parent\"><img src=\"https://colab.research.google.com/assets/colab-badge.svg\" alt=\"Open In Colab\"/></a>"
      ]
    },
    {
      "cell_type": "code",
      "execution_count": null,
      "metadata": {
        "colab": {
          "base_uri": "https://localhost:8080/"
        },
        "id": "7dysbv-Wt8Gs",
        "outputId": "b4ce6aa7-ba9a-4f8c-d5e7-c007e2079a13"
      },
      "outputs": [
        {
          "output_type": "stream",
          "name": "stdout",
          "text": [
            "(2, 3, 2)\n"
          ]
        }
      ],
      "source": [
        "import tensorflow as tf\n",
        "\n",
        "# 输入数据 (batch_size=2, sequence_length=3, features=2)\n",
        "inputs = tf.constant([\n",
        "    [[1, 2], [3, 4], [5, 6]],   # 样本1\n",
        "    [[7, 8], [9, 10], [11, 12]] # 样本2\n",
        "], dtype=tf.float32)\n",
        "\n",
        "print(inputs.shape)"
      ]
    },
    {
      "cell_type": "code",
      "source": [
        "# 沿时间步维度（axis=1）计算均值\n",
        "mean_output = tf.reduce_mean(inputs, axis=1)\n",
        "\n",
        "\"\"\"\n",
        "输出：\n",
        "[[3. 4.]  # (1+3+5)/3=3, (2+4+6)/3=4\n",
        " [9. 10.]] # (7+9+11)/3=9, (8+10+12)/3=10\n",
        "\"\"\"\n",
        "\n",
        "print(mean_output)\n",
        "print(mean_output.shape)"
      ],
      "metadata": {
        "colab": {
          "base_uri": "https://localhost:8080/"
        },
        "id": "0x8xk-PxuU_J",
        "outputId": "8ff16656-2d23-4061-bb77-fda13aa7f7d8"
      },
      "execution_count": null,
      "outputs": [
        {
          "output_type": "stream",
          "name": "stdout",
          "text": [
            "tf.Tensor(\n",
            "[[ 3.  4.]\n",
            " [ 9. 10.]], shape=(2, 2), dtype=float32)\n",
            "(2, 2)\n"
          ]
        }
      ]
    },
    {
      "cell_type": "code",
      "source": [
        "from tensorflow.keras.layers import GlobalMaxPooling1D\n",
        "\n",
        "# 创建池化层\n",
        "max_pool = GlobalMaxPooling1D()\n",
        "max_output = max_pool(inputs)\n",
        "\"\"\"\n",
        "输出：\n",
        "[[5. 6.]   # max(1,3,5)=5, max(2,4,6)=6\n",
        " [11. 12.]] # max(7,9,11)=11, max(8,10,12)=12\n",
        "\"\"\"\n",
        "\n",
        "print(max_output)\n",
        "print(max_output.shape)"
      ],
      "metadata": {
        "colab": {
          "base_uri": "https://localhost:8080/"
        },
        "id": "aWq-fFi1um5f",
        "outputId": "a6d25986-13ed-4ee7-d05a-1d2f613f0393"
      },
      "execution_count": null,
      "outputs": [
        {
          "output_type": "stream",
          "name": "stdout",
          "text": [
            "tf.Tensor(\n",
            "[[ 5.  6.]\n",
            " [11. 12.]], shape=(2, 2), dtype=float32)\n",
            "(2, 2)\n"
          ]
        }
      ]
    }
  ]
}