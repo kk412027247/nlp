{
  "nbformat": 4,
  "nbformat_minor": 0,
  "metadata": {
    "colab": {
      "name": "text_generation_GPT_2.ipynb",
      "provenance": [],
      "authorship_tag": "ABX9TyPOXquXd52gXfwmQ19CwgYl",
      "include_colab_link": true
    },
    "kernelspec": {
      "name": "python3",
      "display_name": "Python 3"
    },
    "language_info": {
      "name": "python"
    }
  },
  "cells": [
    {
      "cell_type": "markdown",
      "metadata": {
        "id": "view-in-github",
        "colab_type": "text"
      },
      "source": [
        "<a href=\"https://colab.research.google.com/github/kk412027247/nlp/blob/main/text_generation_GPT_2.ipynb\" target=\"_parent\"><img src=\"https://colab.research.google.com/assets/colab-badge.svg\" alt=\"Open In Colab\"/></a>"
      ]
    },
    {
      "cell_type": "code",
      "execution_count": null,
      "metadata": {
        "id": "PkPUCwKLkTT1"
      },
      "outputs": [],
      "source": [
        "!pip install transformers"
      ]
    },
    {
      "cell_type": "code",
      "source": [
        "from transformers import TFGPT2LMHeadModel, GPT2Tokenizer\n",
        "gpt2tokenizer = GPT2Tokenizer.from_pretrained('gpt2')\n",
        "gpt2 = TFGPT2LMHeadModel.from_pretrained('gpt2', pad_token_id=gpt2tokenizer.eos_token_id)"
      ],
      "metadata": {
        "id": "Fd5FsxVtk0wF"
      },
      "execution_count": null,
      "outputs": []
    },
    {
      "cell_type": "code",
      "source": [
        "input_ids = gpt2tokenizer.encode('Robotics is the domain of ', return_tensors='tf')\n",
        "greedy_output = gpt2.generate(input_ids, max_length=50)\n",
        "print('Output:\\n'+50 * '-')\n",
        "print(gpt2tokenizer.decode(greedy_output[0], skip_special_tokens=True))"
      ],
      "metadata": {
        "id": "n5pEDo2oAEXQ"
      },
      "execution_count": null,
      "outputs": []
    },
    {
      "cell_type": "code",
      "source": [
        "beam_output = gpt2.generate(input_ids, max_length=50, num_beams=5, early_stopping=True)\n",
        "\n",
        "print('Output:\\n' + 50*'-')\n",
        "print(gpt2tokenizer.decode(beam_output[0], skip_special_tokens=True))\n"
      ],
      "metadata": {
        "id": "Pucov8Fprilc"
      },
      "execution_count": null,
      "outputs": []
    },
    {
      "cell_type": "code",
      "source": [
        "beam_output = gpt2.generate(input_ids, max_length=50, num_beams=5,no_repeat_ngram_size=3, early_stopping=True)\n",
        "\n",
        "print('Output:\\n' + 50*'-')\n",
        "print(gpt2tokenizer.decode(beam_output[0], skip_special_tokens=True))"
      ],
      "metadata": {
        "id": "nA8rXoW-tIkt"
      },
      "execution_count": null,
      "outputs": []
    },
    {
      "cell_type": "code",
      "source": [
        "import tensorflow as tf\n",
        "tf.random.set_seed(42)\n",
        "beam_output = gpt2.generate(\n",
        "    input_ids,\n",
        "    max_length=50,\n",
        "    do_sample=True,\n",
        "    top_k=25,\n",
        "    temperature=2\n",
        ")\n",
        "\n",
        "print('Output:\\n' + 50 * '-')\n",
        "print(gpt2tokenizer.decode(beam_output[0], skip_special_tokens=True))"
      ],
      "metadata": {
        "id": "mAod2wytyFYL"
      },
      "execution_count": null,
      "outputs": []
    }
  ]
}